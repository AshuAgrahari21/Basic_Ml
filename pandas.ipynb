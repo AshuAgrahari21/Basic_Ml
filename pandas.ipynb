{
 "cells": [
  {
   "cell_type": "code",
   "execution_count": null,
   "id": "89b244b1-e040-4228-8621-a00e8b768435",
   "metadata": {},
   "outputs": [],
   "source": [
    "import panda as pd;\n",
    "\n",
    "data = {\n",
    "\n",
    "    'Name': ['Akash', 'Saurab', 'Chitru', 'Aman', 'Raja'],\n",
    "\n",
    "    'Age': [24, 27, 22, 32, 29],\n",
    "\n",
    "    'City': ['Dhaka', 'Jharkhand', '', 'Houston', 'Phoenix']\n",
    "\n",
    "}"
   ]
  }
 ],
 "metadata": {
  "kernelspec": {
   "display_name": "Python 3 (ipykernel)",
   "language": "python",
   "name": "python3"
  },
  "language_info": {
   "codemirror_mode": {
    "name": "ipython",
    "version": 3
   },
   "file_extension": ".py",
   "mimetype": "text/x-python",
   "name": "python",
   "nbconvert_exporter": "python",
   "pygments_lexer": "ipython3",
   "version": "3.12.4"
  }
 },
 "nbformat": 4,
 "nbformat_minor": 5
}
