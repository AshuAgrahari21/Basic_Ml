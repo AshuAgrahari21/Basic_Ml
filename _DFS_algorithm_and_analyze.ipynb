{
 "cells": [
  {
   "cell_type": "code",
   "execution_count": 14,
   "id": "8dc42227-2f30-47e1-9863-c26a053e7cdb",
   "metadata": {},
   "outputs": [
    {
     "name": "stdout",
     "output_type": "stream",
     "text": [
      "DFS starting from vertex 0:\n",
      "0 1 3 4 2 5 \n",
      "DFS execution time: 0.000000 seconds\n"
     ]
    }
   ],
   "source": [
    "import time;\n",
    "\n",
    "class Graph:\n",
    "\n",
    "    def __init__(self, vertices):\n",
    "\n",
    "        self.V = vertices\n",
    "\n",
    "        self.graph = [[] for _ in range(vertices)]\n",
    "\n",
    " \n",
    "\n",
    "    def add_edge(self, u, v):\n",
    "\n",
    "        self.graph[u].append(v)\n",
    "\n",
    " \n",
    "\n",
    "    def dfs_util(self, v, visited):\n",
    "\n",
    "        visited[v] = True\n",
    "\n",
    "        print(v, end=' ')\n",
    "\n",
    "       \n",
    "\n",
    "        for neighbor in self.graph[v]:\n",
    "\n",
    "            if not visited[neighbor]:\n",
    "\n",
    "                self.dfs_util(neighbor, visited)\n",
    "\n",
    " \n",
    "\n",
    "    def dfs(self, start_vertex):\n",
    "\n",
    "        visited = [False] * self.V\n",
    "\n",
    "        self.dfs_util(start_vertex, visited)\n",
    "\n",
    " \n",
    "\n",
    "def measure_dfs_performance(graph, start_vertex):\n",
    "\n",
    "    start_time = time.time()\n",
    "\n",
    "    graph.dfs(start_vertex)\n",
    "\n",
    "    end_time = time.time()\n",
    "\n",
    "    print(f\"\\nDFS execution time: {end_time - start_time:.6f} seconds\")\n",
    "\n",
    " \n",
    "\n",
    "if __name__ == \"__main__\":\n",
    "\n",
    "    g = Graph(6)\n",
    "\n",
    "    g.add_edge(0, 1)\n",
    "\n",
    "    g.add_edge(0, 2)\n",
    "\n",
    "    g.add_edge(1, 3)\n",
    "\n",
    "    g.add_edge(1, 4)\n",
    "\n",
    "    g.add_edge(2, 5)\n",
    "\n",
    "   \n",
    "\n",
    "    start_vertex = 0\n",
    "\n",
    "    print(f\"DFS starting from vertex {start_vertex}:\")\n",
    "\n",
    "    measure_dfs_performance(g, start_vertex)"
   ]
  },
  {
   "cell_type": "code",
   "execution_count": null,
   "id": "03da5f06-beb0-471f-acec-d15e711db34d",
   "metadata": {},
   "outputs": [],
   "source": []
  }
 ],
 "metadata": {
  "kernelspec": {
   "display_name": "Python 3 (ipykernel)",
   "language": "python",
   "name": "python3"
  },
  "language_info": {
   "codemirror_mode": {
    "name": "ipython",
    "version": 3
   },
   "file_extension": ".py",
   "mimetype": "text/x-python",
   "name": "python",
   "nbconvert_exporter": "python",
   "pygments_lexer": "ipython3",
   "version": "3.12.4"
  }
 },
 "nbformat": 4,
 "nbformat_minor": 5
}
