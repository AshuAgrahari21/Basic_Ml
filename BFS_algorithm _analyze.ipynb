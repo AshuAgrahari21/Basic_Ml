{
 "cells": [
  {
   "cell_type": "code",
   "execution_count": 1,
   "id": "540abc79-8659-4c95-9ba9-beccfcdf4ee5",
   "metadata": {},
   "outputs": [
    {
     "name": "stdout",
     "output_type": "stream",
     "text": [
      "BFS starting from vertex 0:\n",
      "0 1 2 3 4 5 \n",
      "BFS execution time: 0.000000 seconds\n"
     ]
    }
   ],
   "source": [
    "import time\n",
    "from collections import deque\n",
    "class Graph:\n",
    "    def __init__(self, vertices):\n",
    "        self.V = vertices\n",
    "        self.graph = [[]                      \n",
    "    for _ in range(vertices)]\n",
    "    def add_edge(self, u, v):\n",
    "        self.graph[u].append(v)\n",
    "    def bfs(self, start_vertex):\n",
    "        visited = [False] * self.V\n",
    "        queue = deque([start_vertex])\n",
    "        visited[start_vertex] = True\n",
    "        while queue:\n",
    "            v = queue.popleft()\n",
    "            print(v, end=' ')\n",
    "            for neighbor in self.graph[v]:\n",
    "                if not visited[neighbor]:\n",
    "                    queue.append(neighbor)\n",
    "                    visited[neighbor] = True\n",
    "def measure_bfs_performance(graph, start_vertex):\n",
    "    start_time = time.time()\n",
    "    graph.bfs(start_vertex)\n",
    "    end_time = time.time()\n",
    "    print(f\"\\nBFS execution time: {end_time - start_time:.6f} seconds\")\n",
    "if __name__ == \"__main__\":\n",
    "    g = Graph(6)\n",
    "    g.add_edge(0, 1)\n",
    "    g.add_edge(0, 2)\n",
    "    g.add_edge(1, 3)\n",
    "    g.add_edge(1, 4)\n",
    "    g.add_edge(2, 5)\n",
    "    start_vertex = 0\n",
    "    print(f\"BFS starting from vertex {start_vertex}:\")\n",
    "    measure_bfs_performance(g, start_vertex)"
   ]
  },
  {
   "cell_type": "code",
   "execution_count": null,
   "id": "fcdc86f6-9138-4d7a-a21d-a8d4983a9763",
   "metadata": {},
   "outputs": [],
   "source": []
  },
  {
   "cell_type": "code",
   "execution_count": null,
   "id": "e328695c-ff03-4903-bf05-d5d7df95ee51",
   "metadata": {},
   "outputs": [],
   "source": []
  },
  {
   "cell_type": "code",
   "execution_count": null,
   "id": "b8ab4887-b42b-408b-bfcc-795b35159dfa",
   "metadata": {},
   "outputs": [],
   "source": []
  },
  {
   "cell_type": "code",
   "execution_count": null,
   "id": "8eae9b54-dc80-4353-bb6a-f82a33058bad",
   "metadata": {},
   "outputs": [],
   "source": []
  },
  {
   "cell_type": "code",
   "execution_count": null,
   "id": "9ea00856-7693-44c6-86e5-96f60f3c5190",
   "metadata": {},
   "outputs": [],
   "source": []
  }
 ],
 "metadata": {
  "kernelspec": {
   "display_name": "Python 3 (ipykernel)",
   "language": "python",
   "name": "python3"
  },
  "language_info": {
   "codemirror_mode": {
    "name": "ipython",
    "version": 3
   },
   "file_extension": ".py",
   "mimetype": "text/x-python",
   "name": "python",
   "nbconvert_exporter": "python",
   "pygments_lexer": "ipython3",
   "version": "3.12.4"
  }
 },
 "nbformat": 4,
 "nbformat_minor": 5
}
